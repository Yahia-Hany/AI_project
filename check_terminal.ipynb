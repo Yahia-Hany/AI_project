{
 "cells": [
  {
   "cell_type": "code",
   "execution_count": null,
   "id": "72829750-d012-403a-9566-ea10c2aa5813",
   "metadata": {},
   "outputs": [],
   "source": [
    "\n",
    " def check_terminal(self, current_state):\n",
    "        terminal = False\n",
    "        full = False\n",
    "        player = None\n",
    "    \n",
    "        for row in range(6):\n",
    "            for col in range(4):\n",
    "                if current_state[row][col] == current_state[row][col + 1] == current_state[row][col + 2] == current_state[row][col + 3] and current_state[row][col] != \" \":\n",
    "                    terminal = True\n",
    "                    player = current_state[row][col]\n",
    "    \n",
    "        for col in range(7):\n",
    "            for row in range(3):\n",
    "                if current_state[row][col] == current_state[row + 1][col] == current_state[row + 2][col] == current_state[row + 3][col] and current_state[row][col] != \" \":\n",
    "                    terminal = True\n",
    "                    player = current_state[row][col]\n",
    "    \n",
    "        for row in range(3):\n",
    "            for col in range(4):\n",
    "                if current_state[row][col] == current_state[row + 1][col + 1] == current_state[row + 2][col + 2] == current_state[row + 3][col + 3] and current_state[row][col] != \" \":\n",
    "                    terminal = True\n",
    "                    player = current_state[row][col]\n",
    "                if current_state[row + 3][col] == current_state[row + 2][col + 1] == current_state[row + 1][col + 2] == current_state[row][col + 3] and current_state[row + 3][col] != \" \":\n",
    "                    terminal = True\n",
    "                    player = current_state[row + 3][col]\n",
    "    \n",
    "        empty_count = 0\n",
    "        for row in range(6):\n",
    "            for col in range(7):\n",
    "                if current_state[row][col] == \" \":\n",
    "                    empty_count += 1\n",
    "    \n",
    "        if empty_count == 0:\n",
    "            full = True\n",
    "    \n",
    "        if terminal:\n",
    "            if player == \"R\":\n",
    "                return 1\n",
    "            elif player == \"Y\":\n",
    "                return -1\n",
    "        elif full:\n",
    "            return 0\n",
    "        else:\n",
    "            return \"Not terminal\"\n"
   ]
  }
 ],
 "metadata": {
  "kernelspec": {
   "display_name": "Python 3 (ipykernel)",
   "language": "python",
   "name": "python3"
  },
  "language_info": {
   "codemirror_mode": {
    "name": "ipython",
    "version": 3
   },
   "file_extension": ".py",
   "mimetype": "text/x-python",
   "name": "python",
   "nbconvert_exporter": "python",
   "pygments_lexer": "ipython3",
   "version": "3.12.4"
  }
 },
 "nbformat": 4,
 "nbformat_minor": 5
}

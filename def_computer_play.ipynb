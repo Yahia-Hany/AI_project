{
 "cells": [
  {
   "cell_type": "code",
   "execution_count": 3,
   "id": "a37868df-c5a1-49c8-bc23-b978b9207ef2",
   "metadata": {},
   "outputs": [],
   "source": [
    "def computer_play(self, current_state, difficulty):\n",
    "\n",
    "    import random\n",
    "\n",
    "    player = self.current_player(current_state)\n",
    "    print(f\"Computer's turn, playing as {player}\")\n",
    "\n",
    "    smart_move_chance = random.randint(1, 10)\n",
    "\n",
    "    if smart_move_chance <= difficulty:\n",
    "        print(\"Computer is thinking strategically...\")\n",
    "        _, action = self.alpha_beta(current_state, depth=5)\n",
    "        if action is None:\n",
    "            print(\"No strategic move found, falling back to random.\")\n",
    "            available = self.available_actions(current_state)\n",
    "            action = random.choice(available)\n",
    "\n",
    "    else:\n",
    "        print(\"Computer is playing randomly...\")\n",
    "        available = self.available_actions(current_state)\n",
    "        action = random.choice(available)\n",
    "\n",
    "    new_state = self.take_action(current_state, action)\n",
    "    print(f\"Computer played in column {action[1]}\")\n",
    "    self.display_grid(new_state)\n",
    "    return new_state"
   ]
  }
 ],
 "metadata": {
  "kernelspec": {
   "display_name": "Python [conda env:base] *",
   "language": "python",
   "name": "conda-base-py"
  },
  "language_info": {
   "codemirror_mode": {
    "name": "ipython",
    "version": 3
   },
   "file_extension": ".py",
   "mimetype": "text/x-python",
   "name": "python",
   "nbconvert_exporter": "python",
   "pygments_lexer": "ipython3",
   "version": "3.12.7"
  }
 },
 "nbformat": 4,
 "nbformat_minor": 5
}

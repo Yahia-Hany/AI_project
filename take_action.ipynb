{
  "metadata": {
    "kernelspec": {
      "name": "python",
      "display_name": "Python (Pyodide)",
      "language": "python"
    },
    "language_info": {
      "codemirror_mode": {
        "name": "python",
        "version": 3
      },
      "file_extension": ".py",
      "mimetype": "text/x-python",
      "name": "python",
      "nbconvert_exporter": "python",
      "pygments_lexer": "ipython3",
      "version": "3.8"
    }
  },
  "nbformat_minor": 5,
  "nbformat": 4,
  "cells": [
    {
      "id": "2572cbf2-74a8-44b9-b9d7-71b6c0d1bfdb",
      "cell_type": "code",
      "source": "def take_action(self, current_state, action):\n        new_state = [\n            [\" \", \" \", \" \", \" \", \" \", \" \", \" \"],\n            [\" \", \" \", \" \", \" \", \" \", \" \", \" \"],\n            [\" \", \" \", \" \", \" \", \" \", \" \", \" \"],\n            [\" \", \" \", \" \", \" \", \" \", \" \", \" \"],\n            [\" \", \" \", \" \", \" \", \" \", \" \", \" \"],\n            [\" \", \" \", \" \", \" \", \" \", \" \", \" \"],\n        ]\n    \n        for row in range(6):\n            for col in range(7):\n                new_state[row][col] = current_state[row][col]\n    \n        player, column = action\n    \n        row = -1\n        for r in range(5, -1, -1):  \n            if new_state[r][column] == \" \":\n                row = r\n                break\n    \n        if row != -1:\n            new_state[row][column] = player\n    \n        return new_state ",
      "metadata": {
        "trusted": true
      },
      "outputs": [],
      "execution_count": 2
    }
  ]
}
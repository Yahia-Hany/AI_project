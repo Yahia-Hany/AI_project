{
 "cells": [
  {
   "cell_type": "code",
   "execution_count": 1,
   "id": "e183028b-5d43-408e-b182-d593fd8e3cc4",
   "metadata": {},
   "outputs": [],
   "source": [
    "def display_grid(self, state):\n",
    "        print()\n",
    "        for row in range(6):\n",
    "            for col in range(7):\n",
    "                print(' ', state[row][col], ' ', sep='', end='')\n",
    "                if col < 6:\n",
    "                    print('|', end='')\n",
    "            print()\n",
    "            if row < 5:\n",
    "                print('---+---+---+---+---+---+---', end='')\n",
    "                print()\n",
    "        print()"
   ]
  },
  {
   "cell_type": "code",
   "execution_count": null,
   "id": "c3286a13-fe7f-4aca-a4e1-7abb6f49d5e5",
   "metadata": {},
   "outputs": [],
   "source": []
  }
 ],
 "metadata": {
  "kernelspec": {
   "display_name": "Python [conda env:base] *",
   "language": "python",
   "name": "conda-base-py"
  },
  "language_info": {
   "codemirror_mode": {
    "name": "ipython",
    "version": 3
   },
   "file_extension": ".py",
   "mimetype": "text/x-python",
   "name": "python",
   "nbconvert_exporter": "python",
   "pygments_lexer": "ipython3",
   "version": "3.12.7"
  }
 },
 "nbformat": 4,
 "nbformat_minor": 5
}

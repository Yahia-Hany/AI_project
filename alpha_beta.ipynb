{
 "cells": [
  {
   "cell_type": "code",
   "execution_count": null,
   "id": "b304395a-5df7-441d-9c97-6b69ffcc5d8a",
   "metadata": {},
   "outputs": [],
   "source": [
    "def alpha_beta(self, current_state, depth=8, alpha=float('-inf'), beta=float('inf')):\n",
    "        result = self.check_terminal(current_state)\n",
    "    \n",
    "        if result != \"Not terminal\" or depth == 0:\n",
    "            if result == \"Not terminal\":\n",
    "                return 0, None \n",
    "            return result, None  \n",
    "    \n",
    "        player = self.current_player(current_state)\n",
    "        best_action = None\n",
    "    \n",
    "        if player == \"R\":\n",
    "            max_eval = float('-inf')\n",
    "            for action in self.available_actions(current_state):\n",
    "                next_state = self.take_action(current_state, action)\n",
    "                eval, _ = self.alpha_beta(next_state, depth - 1, alpha, beta)\n",
    "                if eval > max_eval:\n",
    "                    max_eval = eval\n",
    "                    best_action = action\n",
    "                alpha = max(alpha, eval)\n",
    "                if beta <= alpha:\n",
    "                    break\n",
    "            return max_eval, best_action\n",
    "    \n",
    "        else:\n",
    "            min_eval = float('inf')\n",
    "            for action in self.available_actions(current_state):\n",
    "                next_state = self.take_action(current_state, action)\n",
    "                eval, _ = self.alpha_beta(next_state, depth - 1, alpha, beta)\n",
    "                if eval < min_eval:\n",
    "                    min_eval = eval\n",
    "                    best_action = action\n",
    "                beta = min(beta, eval)\n",
    "                if beta <= alpha:\n",
    "                    break\n",
    "            return min_eval, best_action\n"
   ]
  }
 ],
 "metadata": {
  "kernelspec": {
   "display_name": "Python 3 (ipykernel)",
   "language": "python",
   "name": "python3"
  },
  "language_info": {
   "codemirror_mode": {
    "name": "ipython",
    "version": 3
   },
   "file_extension": ".py",
   "mimetype": "text/x-python",
   "name": "python",
   "nbconvert_exporter": "python",
   "pygments_lexer": "ipython3",
   "version": "3.12.4"
  }
 },
 "nbformat": 4,
 "nbformat_minor": 5
}

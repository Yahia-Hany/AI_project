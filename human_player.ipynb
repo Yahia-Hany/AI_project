{
  "metadata": {
    "kernelspec": {
      "name": "python",
      "display_name": "Python (Pyodide)",
      "language": "python"
    },
    "language_info": {
      "codemirror_mode": {
        "name": "python",
        "version": 3
      },
      "file_extension": ".py",
      "mimetype": "text/x-python",
      "name": "python",
      "nbconvert_exporter": "python",
      "pygments_lexer": "ipython3",
      "version": "3.8"
    }
  },
  "nbformat_minor": 5,
  "nbformat": 4,
  "cells": [
    {
      "id": "5cad19fe-73a7-444e-96c3-951718c1d567",
      "cell_type": "code",
      "source": "def human_play(self, current_state):\n        self.display_grid(current_state)\n        player = self.current_player(current_state)\n        print(f\"Your turn, you are playing with {player}\")\n        \n        while True:  \n            try:\n                column = int(input(\"Choose your action, row column respectively: \"))\n                \n                if column < 0 or column > 6:\n                    print(\"Column must be between 0 and 6!\")\n                    continue\n                    \n                if current_state[0][column] != \" \":\n                    print(\"Column is full! Choose another column.\")\n                    continue\n                    \n                break  \n                \n            except ValueError: \n                print(\"Please enter a number between 0 and 6!\")\n        \n        action = (player, column)\n        new_state = self.take_action(current_state, action)\n        self.display_grid(new_state)\n        return new_state",
      "metadata": {
        "trusted": true
      },
      "outputs": [],
      "execution_count": null
    }
  ]
}
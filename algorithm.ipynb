{
 "cells": [
  {
   "cell_type": "code",
   "execution_count": null,
   "id": "e21e75eb-1769-47e5-8df0-8868a801a306",
   "metadata": {},
   "outputs": [],
   "source": [
    "    def ordered_actions(self, current_state):\n",
    "        \"\"\" Return actions with preference to center columns for better pruning \"\"\"\n",
    "        player = self.current_player(current_state)\n",
    "        center_priority = [3, 2, 4, 1, 5, 0, 6]\n",
    "        return [(player, col) for col in center_priority if current_state[0][col] == \" \"]\n",
    "\n",
    "    #________________________________________________________________________________________________________\n",
    "    def alpha_beta(self, current_state, depth=4, alpha=float('-inf'), beta=float('inf')):\n",
    "        result = self.check_terminal(current_state)\n",
    "\n",
    "        if result != \"Not terminal\" or depth == 0:\n",
    "            return (result if result != \"Not terminal\" else 0), None\n",
    "\n",
    "        player = self.current_player(current_state)\n",
    "        best_action = None\n",
    "\n",
    "        if player == \"R\":\n",
    "            max_eval = float('-inf')\n",
    "            for action in self.ordered_actions(current_state):\n",
    "                next_state = self.take_action(current_state, action)\n",
    "                eval, _ = self.alpha_beta(next_state, depth - 1, alpha, beta)\n",
    "                if eval > max_eval:\n",
    "                    max_eval = eval\n",
    "                    best_action = action\n",
    "                alpha = max(alpha, eval)\n",
    "                if beta <= alpha:\n",
    "                    break\n",
    "            return max_eval, best_action\n",
    "        else:\n",
    "            min_eval = float('inf')\n",
    "            for action in self.ordered_actions(current_state):\n",
    "                next_state = self.take_action(current_state, action)\n",
    "                eval, _ = self.alpha_beta(next_state, depth - 1, alpha, beta)\n",
    "                if eval < min_eval:\n",
    "                    min_eval = eval\n",
    "                    best_action = action\n",
    "                beta = min(beta, eval)\n",
    "                if beta <= alpha:\n",
    "                    break\n",
    "            return min_eval, best_action\n"
   ]
  }
 ],
 "metadata": {
  "kernelspec": {
   "display_name": "Python 3 (ipykernel)",
   "language": "python",
   "name": "python3"
  },
  "language_info": {
   "codemirror_mode": {
    "name": "ipython",
    "version": 3
   },
   "file_extension": ".py",
   "mimetype": "text/x-python",
   "name": "python",
   "nbconvert_exporter": "python",
   "pygments_lexer": "ipython3",
   "version": "3.12.4"
  }
 },
 "nbformat": 4,
 "nbformat_minor": 5
}

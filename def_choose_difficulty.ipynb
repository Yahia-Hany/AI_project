{
 "cells": [
  {
   "cell_type": "code",
   "execution_count": 2,
   "id": "613bb356-8c5c-4f9b-93c1-ad626eabc8b8",
   "metadata": {},
   "outputs": [],
   "source": [
    "def choose_difficulty(self):\n",
    "    print(\"Choose difficulty level from 1 - 10:\")\n",
    "\n",
    "    while True:\n",
    "        try:\n",
    "            choice = int(input(\"Enter your choice (1-10): \"))\n",
    "            if 1 <= choice <= 10:\n",
    "                return choice\n",
    "            else:\n",
    "                print(\"Please enter a number between 1 and 10!\")\n",
    "        except ValueError:\n",
    "            print(\"Please enter a valid number!\")"
   ]
  }
 ],
 "metadata": {
  "kernelspec": {
   "display_name": "Python [conda env:base] *",
   "language": "python",
   "name": "conda-base-py"
  },
  "language_info": {
   "codemirror_mode": {
    "name": "ipython",
    "version": 3
   },
   "file_extension": ".py",
   "mimetype": "text/x-python",
   "name": "python",
   "nbconvert_exporter": "python",
   "pygments_lexer": "ipython3",
   "version": "3.12.7"
  }
 },
 "nbformat": 4,
 "nbformat_minor": 5
}

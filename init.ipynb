{
 "cells": [
  {
   "cell_type": "code",
   "execution_count": 1,
   "id": "af2f7c91-24c9-4764-8074-ed526895a8e0",
   "metadata": {},
   "outputs": [],
   "source": [
    "def __init__(self):\n",
    "        self.initial_grid = [\n",
    "            [\" \", \" \", \" \",\" \",\" \",\" \",\" \"],\n",
    "            [\" \", \" \", \" \",\" \",\" \",\" \",\" \"],\n",
    "            [\" \", \" \", \" \",\" \",\" \",\" \",\" \"],\n",
    "            [\" \", \" \", \" \",\" \",\" \",\" \",\" \"],\n",
    "            [\" \", \" \", \" \",\" \",\" \",\" \",\" \"],\n",
    "            [\" \", \" \", \" \",\" \",\" \",\" \",\" \"],\n",
    "                            ]"
   ]
  },
  {
   "cell_type": "code",
   "execution_count": null,
   "id": "5bd256ff-c65c-4ee7-b8a7-3971c781f4e3",
   "metadata": {},
   "outputs": [],
   "source": []
  }
 ],
 "metadata": {
  "kernelspec": {
   "display_name": "Python [conda env:base] *",
   "language": "python",
   "name": "conda-base-py"
  },
  "language_info": {
   "codemirror_mode": {
    "name": "ipython",
    "version": 3
   },
   "file_extension": ".py",
   "mimetype": "text/x-python",
   "name": "python",
   "nbconvert_exporter": "python",
   "pygments_lexer": "ipython3",
   "version": "3.12.7"
  }
 },
 "nbformat": 4,
 "nbformat_minor": 5
}

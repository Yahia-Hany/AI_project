{
 "cells": [
  {
   "cell_type": "code",
   "execution_count": null,
   "id": "459dd80d-80b6-4989-aacf-80006c5cff5f",
   "metadata": {},
   "outputs": [],
   "source": [
    " \n",
    "    def available_actions(self, current_state):\n",
    "        actions = []\n",
    "        player = self.current_player(current_state)\n",
    "        for row in range(6):\n",
    "            for col in range(7):\n",
    "                if current_state[0][col] == \" \":\n",
    "                    actions.append((player, col))\n",
    "\n",
    "        return actions\n"
   ]
  }
 ],
 "metadata": {
  "kernelspec": {
   "display_name": "Python 3 (ipykernel)",
   "language": "python",
   "name": "python3"
  },
  "language_info": {
   "codemirror_mode": {
    "name": "ipython",
    "version": 3
   },
   "file_extension": ".py",
   "mimetype": "text/x-python",
   "name": "python",
   "nbconvert_exporter": "python",
   "pygments_lexer": "ipython3",
   "version": "3.12.4"
  }
 },
 "nbformat": 4,
 "nbformat_minor": 5
}

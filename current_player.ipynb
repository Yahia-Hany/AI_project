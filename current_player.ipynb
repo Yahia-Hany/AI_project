{
 "cells": [
  {
   "cell_type": "code",
   "execution_count": null,
   "id": "ef73f637-bcd0-4e62-bdf0-8c4765d9222d",
   "metadata": {},
   "outputs": [],
   "source": [
    " def current_player(self, state):\n",
    "        # Count the number of R and Y\n",
    "        count_Red = 0\n",
    "        count_Yellow = 0\n",
    "        for row in range(6):\n",
    "            for col in range(7):\n",
    "                symbol = state[row][col]\n",
    "                if symbol == 'R':\n",
    "                    count_Red += 1\n",
    "                elif symbol == 'Y':\n",
    "                    count_Yellow += 1\n",
    "        # If they are the same, it's player R's turn\n",
    "        if count_Red == count_Yellow:\n",
    "            return 'R'\n",
    "        # Otherwise, it's player Y's turn\n",
    "        return 'Y'"
   ]
  }
 ],
 "metadata": {
  "kernelspec": {
   "display_name": "Python 3 (ipykernel)",
   "language": "python",
   "name": "python3"
  },
  "language_info": {
   "codemirror_mode": {
    "name": "ipython",
    "version": 3
   },
   "file_extension": ".py",
   "mimetype": "text/x-python",
   "name": "python",
   "nbconvert_exporter": "python",
   "pygments_lexer": "ipython3",
   "version": "3.12.4"
  }
 },
 "nbformat": 4,
 "nbformat_minor": 5
}

{
 "cells": [
  {
   "cell_type": "code",
   "execution_count": null,
   "id": "837e73cb-1716-462e-b10b-b107b50abdf7",
   "metadata": {},
   "outputs": [],
   "source": [
    "my_game = Connect_4()\n",
    "choice = input(\"VS player or VS computer \")\n",
    "if choice == \"vs player\":\n",
    "    my_game.player_VS_player()\n",
    "if choice == \"vs computer\":\n",
    "    my_game.player_VS_computer()\n"
   ]
  }
 ],
 "metadata": {
  "kernelspec": {
   "display_name": "Python 3 (ipykernel)",
   "language": "python",
   "name": "python3"
  },
  "language_info": {
   "codemirror_mode": {
    "name": "ipython",
    "version": 3
   },
   "file_extension": ".py",
   "mimetype": "text/x-python",
   "name": "python",
   "nbconvert_exporter": "python",
   "pygments_lexer": "ipython3",
   "version": "3.12.4"
  }
 },
 "nbformat": 4,
 "nbformat_minor": 5
}
